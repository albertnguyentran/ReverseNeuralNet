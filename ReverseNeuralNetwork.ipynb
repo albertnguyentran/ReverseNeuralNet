{
 "cells": [
  {
   "cell_type": "markdown",
   "id": "01168a85-8726-4ae0-bb6e-7ac2a82c27fd",
   "metadata": {},
   "source": [
    "# Reverse Neural Network"
   ]
  },
  {
   "cell_type": "markdown",
   "id": "fe68a782-3de3-495e-8624-f5c7b4124c9c",
   "metadata": {},
   "source": [
    "##### Machine Learning Comprehension: Low"
   ]
  },
  {
   "cell_type": "markdown",
   "id": "361f0425-25e9-42f6-b7f3-36dd98b490c5",
   "metadata": {},
   "source": [
    "##### Time to Read: 10 min"
   ]
  },
  {
   "cell_type": "markdown",
   "id": "fc63bdb8-5adf-49af-ba3f-6d3633663c77",
   "metadata": {},
   "source": [
    "##### Author: Albert Nguyen-Tran, referenced sources credited below"
   ]
  },
  {
   "cell_type": "markdown",
   "id": "c5120fb3-da78-4043-a420-ce14fc2a2531",
   "metadata": {},
   "source": [
    "# Intro"
   ]
  },
  {
   "cell_type": "markdown",
   "id": "893d38a2-cd44-4c74-9edc-95abbccd76ca",
   "metadata": {},
   "source": [
    "At this point you probably already have an idea of how neural networks work. Even better, how useful they are for image classification. With some artificial neurons and weights among other clever techniques we can train a model to classify almost anything you want"
   ]
  },
  {
   "cell_type": "markdown",
   "id": "d826404e-73f8-46ea-9052-b866d3b36ff8",
   "metadata": {},
   "source": [
    "But what if you could run the model in reverse? Could you inverse the model such that, given a label it could \"generate\" some inputs? The answer is not really, but in some cases it can be done, given that some strict conditions are met."
   ]
  },
  {
   "cell_type": "code",
   "execution_count": null,
   "id": "7e6814de-f939-4244-a620-43bc8118756f",
   "metadata": {},
   "outputs": [],
   "source": [
    "So, hopefully by the end of this you can appreciate some of types of algorithms"
   ]
  }
 ],
 "metadata": {
  "kernelspec": {
   "display_name": "ReverseNeuralNetwork",
   "language": "python",
   "name": "reverseneuralnetwork"
  },
  "language_info": {
   "codemirror_mode": {
    "name": "ipython",
    "version": 3
   },
   "file_extension": ".py",
   "mimetype": "text/x-python",
   "name": "python",
   "nbconvert_exporter": "python",
   "pygments_lexer": "ipython3",
   "version": "3.10.9"
  }
 },
 "nbformat": 4,
 "nbformat_minor": 5
}
